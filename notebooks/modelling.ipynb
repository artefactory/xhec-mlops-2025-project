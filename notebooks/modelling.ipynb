{
 "cells": [
  {
   "attachments": {},
   "cell_type": "markdown",
   "metadata": {},
   "source": [
    "In this notebook, you should implement a first version of a working machine learning model to predict the age of an Abalone.\n",
    "\n",
    "A few guidelines:\n",
    "- The model does not have to be complex. A simple linear regression model is enough.\n",
    "- You should use MLflow to track your experiments. You can use the MLflow UI to compare your experiments.\n",
    "- Do not push any MLflow data to the repository. Only the code to run the experiments is interesting and should be pushed."
   ]
  },
  {
   "cell_type": "code",
   "execution_count": null,
   "metadata": {},
   "outputs": [],
   "source": [
    "from sklearn.linear_model import LinearRegression\n",
    "from sklearn.model_selection import train_test_split\n",
    "from sklearn.metrics import mean_squared_error\n",
    "import matplotlib.pyplot as plt\n",
    "import pandas as pd\n",
    "import pickle as pkl\n",
    "from sklearn.preprocessing import OneHotEncoder\n",
    "from sklearn.preprocessing import StandardScaler\n",
    "import numpy as np\n",
    "import os"
   ]
  },
  {
   "cell_type": "code",
   "execution_count": null,
   "metadata": {},
   "outputs": [],
   "source": [
    "df = pd.read_csv('../data/abalone.csv')\n",
    "# df_y = df['Rings']\n",
    "# df = df.drop('Rings', axis=1)\n",
    "\n",
    "\n",
    "\n",
    "\n"
   ]
  },
  {
   "cell_type": "code",
   "execution_count": null,
   "metadata": {},
   "outputs": [],
   "source": [
    "def onehot(df):\n",
    "    df = df.copy()\n",
    "    sex_encoder = OneHotEncoder(drop=\"first\", sparse_output=False)\n",
    "    sex_encoded = sex_encoder.fit_transform(df[['Sex']])\n",
    "    sex_feature_names = sex_encoder.get_feature_names_out(['Sex'])\n",
    "    sex_df = pd.DataFrame(sex_encoded, columns=sex_feature_names, index=df.index)\n",
    "    df = df.drop('Sex', axis=1)\n",
    "    df_encoded = pd.concat([df, sex_df], axis=1)\n",
    "    return df_encoded\n",
    "\n",
    "def scale(df, scaler):\n",
    "    \n",
    "    df = df.copy()\n",
    "    numerical_cols = [\n",
    "        \"Length\",\n",
    "        \"Diameter\",\n",
    "        \"Height\",\n",
    "        \"Whole weight\",\n",
    "        \"Shucked weight\",\n",
    "        \"Viscera weight\",\n",
    "        \"Shell weight\"\n",
    "    ]\n",
    "    if scaler is None:\n",
    "        scaler = StandardScaler()\n",
    "        df[numerical_cols] = scaler.fit_transform(df[numerical_cols])\n",
    "    else:\n",
    "        df[numerical_cols] = scaler.transform(df[numerical_cols])\n",
    "    return df, scaler\n",
    "\n",
    "def preprocess_data(df, scaler=None, with_target=True):\n",
    "    df = df.copy()\n",
    "    df = onehot(df)\n",
    "\n",
    "    if with_target:\n",
    "        y = df[\"Rings\"]\n",
    "        df = df.drop(\"Rings\", axis=1)\n",
    "    else:\n",
    "        y = None\n",
    "    df, scaler = scale(df, scaler)\n",
    "\n",
    "    return df, y, scaler\n",
    "\n",
    "def train_model(x, y):\n",
    "    model = LinearRegression()\n",
    "    model.fit(x, y)\n",
    "    return model\n",
    "\n",
    "def evaluate_model(model, x, y):\n",
    "    y_pred = model.predict(x)\n",
    "    mse = mean_squared_error(y, y_pred)\n",
    "    return mse\n",
    "\n",
    "\n",
    "def save_model(model, artifacts_path):\n",
    "    with open(os.path.join(artifacts_path, 'model.pkl'), 'wb') as f:\n",
    "        pkl.dump(model, f)\n",
    "\n",
    "def save_scaler(scaler, artifacts_path):\n",
    "    with open(os.path.join(artifacts_path, 'scaler.pkl'), 'wb') as f:\n",
    "        pkl.dump(scaler, f)\n",
    "    \n"
   ]
  },
  {
   "cell_type": "code",
   "execution_count": null,
   "metadata": {},
   "outputs": [],
   "source": [
    "x, y, scaler = preprocess_data(df, scaler=None, with_target=True)\n",
    "\n",
    "x_train, x_test, y_train, y_test = train_test_split(x, y, test_size=0.2, random_state=42)\n",
    "model = train_model(x_train, y_train)\n",
    "mse = evaluate_model(model, x_test, y_test)\n",
    "artifacts_path = \"../models/\"\n",
    "save_model(model, artifacts_path)\n",
    "save_scaler(scaler, artifacts_path)"
   ]
  }
 ],
 "metadata": {
  "kernelspec": {
   "display_name": ".venv",
   "language": "python",
   "name": "python3"
  },
  "language_info": {
   "codemirror_mode": {
    "name": "ipython",
    "version": 3
   },
   "file_extension": ".py",
   "mimetype": "text/x-python",
   "name": "python",
   "nbconvert_exporter": "python",
   "pygments_lexer": "ipython3",
   "version": "3.12.11"
  }
 },
 "nbformat": 4,
 "nbformat_minor": 2
}
