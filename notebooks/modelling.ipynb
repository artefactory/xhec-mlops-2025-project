{
 "cells": [
  {
   "attachments": {},
   "cell_type": "markdown",
   "metadata": {},
   "source": [
    "In this notebook, you should implement a first version of a working machine learning model to predict the age of an Abalone.\n",
    "\n",
    "A few guidelines:\n",
    "- The model does not have to be complex. A simple linear regression model is enough.\n",
    "- You should use MLflow to track your experiments. You can use the MLflow UI to compare your experiments.\n",
    "- Do not push any MLflow data to the repository. Only the code to run the experiments is interesting and should be pushed."
   ]
  },
  {
   "cell_type": "code",
   "execution_count": null,
   "metadata": {},
   "outputs": [],
   "source": [
    "from sklearn.linear_model import LinearRegression\n",
    "from sklearn.model_selection import train_test_split\n",
    "from sklearn.metrics import mean_squared_error\n",
    "import matplotlib.pyplot as plt\n",
    "import pandas as pd\n",
    "import pickle as pkl\n",
    "from sklearn.preprocessing import OneHotEncoder\n",
    "from sklearn.preprocessing import StandardScaler\n",
    "import numpy as np"
   ]
  },
  {
   "cell_type": "code",
   "execution_count": null,
   "metadata": {},
   "outputs": [],
   "source": [
    "df = pd.read_csv('../data/abalone.csv')\n",
    "df_y = df['Rings']\n",
    "df = df.drop('Rings', axis=1)"
   ]
  },
  {
   "cell_type": "code",
   "execution_count": null,
   "metadata": {},
   "outputs": [],
   "source": [
    "def onehot(df):\n",
    "    df = df.copy()\n",
    "    sex_encoder = OneHotEncoder(drop=\"first\", sparse_output=False)\n",
    "    sex_encoded = sex_encoder.fit_transform(df[['Sex']])\n",
    "    sex_feature_names = sex_encoder.get_feature_names_out(['Sex'])\n",
    "    sex_df = pd.DataFrame(sex_encoded, columns=sex_feature_names, index=df.index)\n",
    "    df = df.drop('Sex', axis=1)\n",
    "    df_encoded = pd.concat([df, sex_df], axis=1)\n",
    "    return df_encoded\n",
    "\n",
    "def scale(df, scaler):\n",
    "    if scaler is None:\n",
    "        scaler = StandardScaler()\n",
    "        scaler.fit(df)\n",
    "    df = df.copy()\n",
    "    numerical_cols = [\n",
    "        \"Length\",\n",
    "        \"Diameter\",\n",
    "        \"Height\",\n",
    "        \"Whole weight\",\n",
    "        \"Shucked weight\",\n",
    "        \"Viscera weight\",\n",
    "        \"Shell weight\"\n",
    "    ]\n",
    "    df[numerical_cols] = scaler.fit_transform(df[numerical_cols])\n",
    "    return df, scaler\n",
    "def preprocess_data(df, scaler=None, with_target=True):\n",
    "    df = df.copy()\n",
    "    df = onehot(df)\n",
    "\n",
    "    if with_target:\n",
    "        y = df['Rings']\n",
    "        df = df.drop('Rings', axis=1)\n",
    "    else:\n",
    "        y = None\n",
    "    df, scaler= scale(df, scaler)\n",
    "\n",
    "    return df, y, scaler\n",
    "        "
   ]
  },
  {
   "cell_type": "code",
   "execution_count": null,
   "metadata": {},
   "outputs": [],
   "source": [
    "# Create scaler\n",
    "scaler = StandardScaler()\n",
    "df_scaled = df.copy()\n",
    "numerical_cols = [\n",
    "    \"Length\",\n",
    "    \"Diameter\",\n",
    "    \"Height\",\n",
    "    \"Whole weight\",\n",
    "    \"Shucked weight\",\n",
    "    \"Viscera weight\",\n",
    "    \"Shell weight\"\n",
    "]\n",
    "df_scaled[numerical_cols] = scaler.fit_transform(df[numerical_cols])"
   ]
  },
  {
   "cell_type": "code",
   "execution_count": null,
   "metadata": {},
   "outputs": [],
   "source": [
    "# Create OneHotEncoder WITHOUT dropping any categories\n",
    "sex_encoder = OneHotEncoder(drop=\"first\", sparse_output=False)\n",
    "\n",
    "# Fit and transform the Sex column\n",
    "sex_encoded = sex_encoder.fit_transform(df[['Sex']])\n",
    "\n",
    "# Get the actual feature names from the encoder\n",
    "sex_feature_names = sex_encoder.get_feature_names_out(['Sex'])\n",
    "\n",
    "# Create DataFrame with encoded features\n",
    "sex_df = pd.DataFrame(sex_encoded, columns=sex_feature_names, index=df.index)\n",
    "\n",
    "# Drop original Sex column and add encoded columns\n",
    "df_encoded = df.drop('Sex', axis=1)\n",
    "df_encoded = pd.concat([df_encoded, sex_df], axis=1)\n",
    "\n",
    "print(\"Original Sex column values:\", df['Sex'].unique())\n",
    "print(\"Encoded columns:\", sex_feature_names)\n",
    "print(\"Shape before encoding:\", df.shape)\n",
    "print(\"Shape after encoding:\", df_encoded.shape)\n",
    "print(\"\\nFirst few rows of encoded data:\")\n",
    "print(df_encoded.head())"
   ]
  },
  {
   "cell_type": "code",
   "execution_count": null,
   "metadata": {},
   "outputs": [],
   "source": [
    "\n",
    "#split the data into training and testing sets\n",
    "X_train, X_test, y_train, y_test = train_test_split(\n",
    "    df_encoded, \n",
    "    df_y, \n",
    "    test_size=0.2, \n",
    "    random_state=42\n",
    ")"
   ]
  },
  {
   "cell_type": "code",
   "execution_count": null,
   "metadata": {},
   "outputs": [],
   "source": [
    "#create a linear regression model and fit it to the training data\n",
    "model = LinearRegression()\n",
    "model.fit(X_train, y_train)"
   ]
  },
  {
   "cell_type": "code",
   "execution_count": null,
   "metadata": {},
   "outputs": [],
   "source": [
    "#make predictions on the test set\n",
    "y = model.predict(X_test)\n",
    "\n",
    "#evaluate the model\n",
    "mse = mean_squared_error(y_test, y)\n",
    "print(f\"Mean Squared Error: {mse}\")"
   ]
  },
  {
   "cell_type": "code",
   "execution_count": null,
   "metadata": {},
   "outputs": [],
   "source": [
    "#save the model\n",
    "def save_model(model, filename):\n",
    "    with open('../models/linear_regression_model.pkl', 'wb') as f:\n",
    "    pkl.dump(model, f)\n",
    "\n",
    "path = '../models/linear_regression_model.pkl'\n",
    "save_model(model, path)"
   ]
  },
  {
   "cell_type": "code",
   "execution_count": null,
   "metadata": {},
   "outputs": [],
   "source": [
    "#plot the predicted vs actual values\n",
    "plt.figure(figsize=(10, 6))\n",
    "plt.scatter(y_test, y, alpha=0.5)\n",
    "plt.xlabel('Actual Rings')\n",
    "plt.ylabel('Predicted Rings')\n",
    "plt.title('Actual vs Predicted Rings')\n",
    "plt.show()"
   ]
  }
 ],
 "metadata": {
  "kernelspec": {
   "display_name": ".venv",
   "language": "python",
   "name": "python3"
  },
  "language_info": {
   "codemirror_mode": {
    "name": "ipython",
    "version": 3
   },
   "file_extension": ".py",
   "mimetype": "text/x-python",
   "name": "python",
   "nbconvert_exporter": "python",
   "pygments_lexer": "ipython3",
   "version": "3.12.11"
  }
 },
 "nbformat": 4,
 "nbformat_minor": 2
}
