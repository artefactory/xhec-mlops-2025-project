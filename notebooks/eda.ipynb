{
 "cells": [
  {
   "attachments": {},
   "cell_type": "markdown",
   "metadata": {},
   "source": [
    "# EDA (Exploratory Data Analysis) of the Abalone Dataset\n",
    "\n",
    "## Project Overview\n",
    "This notebook explores the Abalone dataset to understand the relationship between physical measurements and age (rings) of abalone. The goal is to predict abalone age using physical measurements instead of the time-consuming method of counting shell rings under a microscope.\n",
    "\n",
    "## Dataset Information\n",
    "- **Target Variable**: Age (calculated as Rings + 1.5)\n",
    "- **Features**: Physical measurements (Length, Diameter, Height, Weights) and Sex\n",
    "- **Problem Type**: Regression (predicting continuous age values)"
   ]
  },
  {
   "cell_type": "code",
   "execution_count": null,
   "metadata": {},
   "outputs": [],
   "source": [
    "# Imports\n",
    "import pandas as pd\n",
    "import numpy as np\n",
    "import matplotlib.pyplot as plt\n",
    "import seaborn as sns\n",
    "import warnings\n",
    "warnings.filterwarnings('ignore')\n",
    "\n",
    "# Set display options\n",
    "pd.set_option('display.max_columns', 500)\n",
    "pd.set_option('display.max_rows', 100)\n",
    "\n",
    "# Set plotting style\n",
    "plt.style.use('default')\n",
    "sns.set_palette(\"husl\")"
   ]
  },
  {
   "cell_type": "code",
   "execution_count": null,
   "metadata": {},
   "outputs": [],
   "source": [
    "%load_ext autoreload\n",
    "%autoreload 2\n",
    "\n",
    "import kagglehub\n",
    "# Download latest version\n",
    "path = kagglehub.dataset_download(\"rodolfomendes/abalone-dataset\")\n",
    "\n",
    "print(\"Path to dataset files:\", path)"
   ]
  },
  {
   "attachments": {},
   "cell_type": "markdown",
   "metadata": {},
   "source": [
    "## 1. Data Loading and Basic Information"
   ]
  },
  {
   "cell_type": "code",
   "execution_count": null,
   "metadata": {},
   "outputs": [],
   "source": [
    "import os\n",
    "# kagglehub returns a directory path, we need to specify the CSV file\n",
    "csv_path = os.path.join(path, 'abalone.csv')\n",
    "df = pd.read_csv(csv_path)\n",
    "\n",
    "# Save a copy to data directory for future use\n",
    "os.makedirs('../data', exist_ok=True)\n",
    "df.to_csv('../data/abalone.csv', index=False)"
   ]
  },
  {
   "cell_type": "code",
   "execution_count": null,
   "metadata": {},
   "outputs": [],
   "source": [
    "# Display basic information about the dataset\n",
    "print(\"Dataset Shape:\", df.shape)\n",
    "print(\"\\nFirst 5 rows:\")\n",
    "print(df.head())\n",
    "\n",
    "print(\"\\nDataset Info:\")\n",
    "print(df.info())\n",
    "\n",
    "print(\"\\nColumn names:\")\n",
    "print(df.columns.tolist())"
   ]
  },
  {
   "attachments": {},
   "cell_type": "markdown",
   "metadata": {},
   "source": [
    "## 2. Data Quality Analysis"
   ]
  },
  {
   "cell_type": "code",
   "execution_count": null,
   "metadata": {},
   "outputs": [],
   "source": [
    "# Check for missing values\n",
    "print(\"Missing Values Analysis:\")\n",
    "print(\"=\" * 40)\n",
    "missing_values = df.isnull().sum()\n",
    "print(\"Null values per column:\")\n",
    "print(missing_values)\n",
    "print(f\"\\nTotal missing values: {missing_values.sum()}\")\n",
    "\n",
    "# Check for duplicates\n",
    "print(f\"\\nDuplicate rows: {df.duplicated().sum()}\")\n",
    "\n",
    "# Check data types\n",
    "print(\"\\nData Types:\")\n",
    "print(df.dtypes)"
   ]
  },
  {
   "cell_type": "markdown",
   "metadata": {},
   "source": [
    "✅ **Data Quality Summary**: The dataset has no missing values and no duplicate rows, making it clean and ready for analysis."
   ]
  },
  {
   "cell_type": "code",
   "execution_count": null,
   "metadata": {},
   "outputs": [],
   "source": [
    "# Statistical summary of numerical features\n",
    "print(\"Statistical Summary:\")\n",
    "print(\"=\" * 50)\n",
    "print(df.describe())\n",
    "\n",
    "# Check unique values in categorical column\n",
    "print(f\"\\nUnique values in 'Sex' column: {df['Sex'].unique()}\")\n",
    "print(f\"Sex distribution:\")\n",
    "print(df['Sex'].value_counts())\n"
   ]
  },
  {
   "cell_type": "code",
   "execution_count": null,
   "metadata": {},
   "outputs": [],
   "source": [
    "## 3. Target Variable Analysis (Age/Rings)"
   ]
  },
  {
   "cell_type": "code",
   "execution_count": null,
   "metadata": {},
   "outputs": [],
   "source": [
    "import matplotlib.pyplot as plt\n",
    "# Create age variable (Rings + 1.5)\n",
    "df['Age'] = df['Rings'] + 1.5\n",
    "\n",
    "# Analyze target variable distribution\n",
    "fig, axes = plt.subplots(2, 2, figsize=(15, 10))\n",
    "\n",
    "# Rings distribution\n",
    "axes[0,0].hist(df['Rings'], bins=30, edgecolor='black', alpha=0.7)\n",
    "axes[0,0].set_title('Distribution of Rings')\n",
    "axes[0,0].set_xlabel('Rings')\n",
    "axes[0,0].set_ylabel('Frequency')\n",
    "\n",
    "# Age distribution\n",
    "axes[0,1].hist(df['Age'], bins=30, edgecolor='black', alpha=0.7, color='orange')\n",
    "axes[0,1].set_title('Distribution of Age (Rings + 1.5)')\n",
    "axes[0,1].set_xlabel('Age')\n",
    "axes[0,1].set_ylabel('Frequency')\n",
    "\n",
    "# Box plot of Rings by Sex\n",
    "df.boxplot(column='Rings', by='Sex', ax=axes[1,0])\n",
    "axes[1,0].set_title('Rings Distribution by Sex')\n",
    "axes[1,0].set_xlabel('Sex')\n",
    "axes[1,0].set_ylabel('Rings')\n",
    "\n",
    "# Box plot of Age by Sex\n",
    "df.boxplot(column='Age', by='Sex', ax=axes[1,1])\n",
    "axes[1,1].set_title('Age Distribution by Sex')\n",
    "axes[1,1].set_xlabel('Sex')\n",
    "axes[1,1].set_ylabel('Age')\n",
    "\n",
    "plt.tight_layout()\n",
    "plt.show()\n",
    "\n",
    "# Target variable statistics\n",
    "print(\"Target Variable Statistics:\")\n",
    "print(\"=\" * 40)\n",
    "print(f\"Rings - Min: {df['Rings'].min()}, Max: {df['Rings'].max()}, Mean: {df['Rings'].mean():.2f}\")\n",
    "print(f\"Age - Min: {df['Age'].min()}, Max: {df['Age'].max()}, Mean: {df['Age'].mean():.2f}\")\n"
   ]
  },
  {
   "cell_type": "code",
   "execution_count": null,
   "metadata": {},
   "outputs": [],
   "source": [
    "# Age group analysis\n",
    "print(\"Age Group Analysis:\")\n",
    "print(\"=\" * 30)\n",
    "\n",
    "# Create age groups\n",
    "df['Age_Group'] = pd.cut(df['Age'], bins=[0, 5, 10, 15, 20, 25, 30], \n",
    "                        labels=['0-5', '5-10', '10-15', '15-20', '20-25', '25-30'])\n",
    "\n",
    "age_group_counts = df['Age_Group'].value_counts().sort_index()\n",
    "print(age_group_counts)\n",
    "\n",
    "# Visualize age groups\n",
    "plt.figure(figsize=(12, 5))\n",
    "\n",
    "plt.subplot(1, 2, 1)\n",
    "age_group_counts.plot(kind='bar', color='skyblue', edgecolor='black')\n",
    "plt.title('Distribution of Age Groups')\n",
    "plt.xlabel('Age Group')\n",
    "plt.ylabel('Count')\n",
    "plt.xticks(rotation=45)\n",
    "\n",
    "plt.subplot(1, 2, 2)\n",
    "age_group_counts.plot(kind='pie', autopct='%1.1f%%', startangle=90)\n",
    "plt.title('Age Group Proportions')\n",
    "plt.ylabel('')\n",
    "\n",
    "plt.tight_layout()\n",
    "plt.show()"
   ]
  },
  {
   "cell_type": "code",
   "execution_count": null,
   "metadata": {},
   "outputs": [],
   "source": [
    "## 4. Feature Analysis and Visualizations"
   ]
  },
  {
   "cell_type": "code",
   "execution_count": null,
   "metadata": {},
   "outputs": [],
   "source": [
    "# Individual feature distributions\n",
    "numerical_features = [\n",
    "    \"Length\", \"Diameter\", \"Height\", \"Whole weight\", \n",
    "    \"Shucked weight\", \"Viscera weight\", \"Shell weight\"\n",
    "]\n",
    "\n",
    "fig, axes = plt.subplots(2, 4, figsize=(20, 10))\n",
    "axes = axes.ravel()\n",
    "\n",
    "for i, feature in enumerate(numerical_features):\n",
    "    # Histogram\n",
    "    axes[i].hist(df[feature], bins=30, edgecolor='black', alpha=0.7)\n",
    "    axes[i].set_title(f'Distribution of {feature}')\n",
    "    axes[i].set_xlabel(feature)\n",
    "    axes[i].set_ylabel('Frequency')\n",
    "    \n",
    "    # Add statistics text\n",
    "    mean_val = df[feature].mean()\n",
    "    std_val = df[feature].std()\n",
    "    axes[i].axvline(mean_val, color='red', linestyle='--', alpha=0.7, label=f'Mean: {mean_val:.2f}')\n",
    "    axes[i].legend()\n",
    "\n",
    "plt.tight_layout()\n",
    "plt.show()\n",
    "\n",
    "# Feature statistics\n",
    "print(\"Feature Statistics:\")\n",
    "print(\"=\" * 50)\n",
    "for feature in numerical_features:\n",
    "    print(f\"{feature}: Mean={df[feature].mean():.3f}, Std={df[feature].std():.3f}, Range=[{df[feature].min():.3f}, {df[feature].max():.3f}]\")\n"
   ]
  },
  {
   "cell_type": "code",
   "execution_count": null,
   "metadata": {},
   "outputs": [],
   "source": [
    "# Categorical feature analysis (Sex)\n",
    "print(\"Sex Distribution Analysis:\")\n",
    "print(\"=\" * 40)\n",
    "sex_counts = df['Sex'].value_counts()\n",
    "print(sex_counts)\n",
    "print(f\"\\nSex proportions:\")\n",
    "print(df['Sex'].value_counts(normalize=True))\n",
    "\n",
    "# Visualize sex distribution\n",
    "fig, axes = plt.subplots(1, 3, figsize=(15, 5))\n",
    "\n",
    "# Bar plot\n",
    "sex_counts.plot(kind='bar', ax=axes[0], color=['lightblue', 'lightpink', 'lightgreen'])\n",
    "axes[0].set_title('Sex Distribution')\n",
    "axes[0].set_xlabel('Sex')\n",
    "axes[0].set_ylabel('Count')\n",
    "axes[0].tick_params(axis='x', rotation=0)\n",
    "\n",
    "# Pie chart\n",
    "sex_counts.plot(kind='pie', ax=axes[1], autopct='%1.1f%%', startangle=90)\n",
    "axes[1].set_title('Sex Proportions')\n",
    "axes[1].set_ylabel('')\n",
    "\n",
    "# Age distribution by sex\n",
    "df.boxplot(column='Age', by='Sex', ax=axes[2])\n",
    "axes[2].set_title('Age Distribution by Sex')\n",
    "axes[2].set_xlabel('Sex')\n",
    "axes[2].set_ylabel('Age')\n",
    "\n",
    "plt.tight_layout()\n",
    "plt.show()\n",
    "\n",
    "# Age statistics by sex\n",
    "print(\"\\nAge Statistics by Sex:\")\n",
    "print(\"=\" * 30)\n",
    "for sex in df['Sex'].unique():\n",
    "    sex_data = df[df['Sex'] == sex]['Age']\n",
    "    print(f\"{sex}: Mean={sex_data.mean():.2f}, Median={sex_data.median():.2f}, Std={sex_data.std():.2f}\")\n"
   ]
  },
  {
   "cell_type": "code",
   "execution_count": null,
   "metadata": {},
   "outputs": [],
   "source": [
    "## 5. Correlation Analysis\n"
   ]
  },
  {
   "cell_type": "code",
   "execution_count": null,
   "metadata": {},
   "outputs": [],
   "source": [
    "# Correlation matrix\n",
    "corr_matrix = df[numerical_features + ['Rings', 'Age']].corr()\n",
    "\n",
    "# Create correlation heatmap\n",
    "plt.figure(figsize=(12, 10))\n",
    "mask = np.triu(np.ones_like(corr_matrix, dtype=bool))\n",
    "sns.heatmap(corr_matrix, mask=mask, annot=True, cmap='coolwarm', center=0,\n",
    "            square=True, linewidths=0.5, cbar_kws={\"shrink\": 0.8})\n",
    "plt.title('Correlation Matrix of All Features')\n",
    "plt.tight_layout()\n",
    "plt.show()\n",
    "\n",
    "# Focus on correlations with target variable\n",
    "print(\"Correlations with Age (Target Variable):\")\n",
    "print(\"=\" * 50)\n",
    "age_correlations = corr_matrix['Age'].drop('Age').sort_values(key=abs, ascending=False)\n",
    "for feature, corr in age_correlations.items():\n",
    "    print(f\"{feature}: {corr:.3f}\")\n",
    "\n",
    "# Scatter plots of top correlated features with Age\n",
    "top_features = age_correlations.head(4).index.tolist()\n",
    "fig, axes = plt.subplots(2, 2, figsize=(15, 12))\n",
    "axes = axes.ravel()\n",
    "\n",
    "for i, feature in enumerate(top_features):\n",
    "    axes[i].scatter(df[feature], df['Age'], alpha=0.6, s=20)\n",
    "    axes[i].set_xlabel(feature)\n",
    "    axes[i].set_ylabel('Age')\n",
    "    axes[i].set_title(f'{feature} vs Age (r={age_correlations[feature]:.3f})')\n",
    "    \n",
    "    # Add trend line\n",
    "    z = np.polyfit(df[feature], df['Age'], 1)\n",
    "    p = np.poly1d(z)\n",
    "    axes[i].plot(df[feature], p(df[feature]), \"r--\", alpha=0.8)\n",
    "\n",
    "plt.tight_layout()\n",
    "plt.show()\n"
   ]
  },
  {
   "cell_type": "code",
   "execution_count": null,
   "metadata": {},
   "outputs": [],
   "source": [
    "## 6. Feature Relationships and Insights\n"
   ]
  },
  {
   "cell_type": "code",
   "execution_count": null,
   "metadata": {},
   "outputs": [],
   "source": [
    "# Pairwise relationships between key features\n",
    "key_features = ['Length', 'Diameter', 'Height', 'Whole weight', 'Shell weight', 'Age']\n",
    "\n",
    "# Create pairplot for key features\n",
    "g = sns.pairplot(df[key_features], diag_kind='hist', plot_kws={'alpha': 0.6})\n",
    "g.fig.suptitle('Pairwise Relationships Between Key Features', y=1.02)\n",
    "plt.show()\n",
    "\n",
    "# Feature importance based on correlation\n",
    "print(\"Feature Importance (based on correlation with Age):\")\n",
    "print(\"=\" * 60)\n",
    "for i, (feature, corr) in enumerate(age_correlations.items(), 1):\n",
    "    print(f\"{i}. {feature}: {corr:.3f}\")\n",
    "\n",
    "# Check for potential outliers\n",
    "print(\"\\nPotential Outliers Analysis:\")\n",
    "print(\"=\" * 40)\n",
    "for feature in numerical_features:\n",
    "    Q1 = df[feature].quantile(0.25)\n",
    "    Q3 = df[feature].quantile(0.75)\n",
    "    IQR = Q3 - Q1\n",
    "    lower_bound = Q1 - 1.5 * IQR\n",
    "    upper_bound = Q3 + 1.5 * IQR\n",
    "    outliers = df[(df[feature] < lower_bound) | (df[feature] > upper_bound)]\n",
    "    print(f\"{feature}: {len(outliers)} outliers ({len(outliers)/len(df)*100:.1f}%)\")\n"
   ]
  },
  {
   "cell_type": "markdown",
   "metadata": {},
   "source": [
    "## 7. Key Insights and Conclusions\n"
   ]
  },
  {
   "cell_type": "code",
   "execution_count": null,
   "metadata": {},
   "outputs": [],
   "source": [
    "# Summary statistics and insights\n",
    "print(\"📊 DATASET SUMMARY\")\n",
    "print(\"=\" * 50)\n",
    "print(f\"• Total samples: {len(df):,}\")\n",
    "print(f\"• Features: {len(df.columns)}\")\n",
    "print(f\"• Age range: {df['Age'].min():.1f} - {df['Age'].max():.1f} years\")\n",
    "print(f\"• Average age: {df['Age'].mean():.1f} years\")\n",
    "\n",
    "print(\"\\n🎯 TARGET VARIABLE INSIGHTS\")\n",
    "print(\"=\" * 50)\n",
    "print(f\"• Age distribution is right-skewed (younger abalones are more common)\")\n",
    "print(f\"• Most abalones ({(df['Age'] <= 10).sum()/len(df)*100:.1f}%) are 10 years or younger\")\n",
    "print(f\"• Sex distribution: {dict(df['Sex'].value_counts())}\")\n",
    "\n",
    "print(\"\\n🔍 FEATURE RELATIONSHIPS\")\n",
    "print(\"=\" * 50)\n",
    "print(\"• Strong positive correlations between physical measurements\")\n",
    "print(\"• Shell weight shows highest correlation with age\")\n",
    "print(\"• Length and diameter are highly correlated (0.99+)\")\n",
    "print(\"• Height shows moderate correlation with age\")\n",
    "\n",
    "print(\"\\n📈 MODELING IMPLICATIONS\")\n",
    "print(\"=\" * 50)\n",
    "print(\"• Shell weight, length, and diameter are key predictors\")\n",
    "print(\"• Sex may be important for age prediction\")\n",
    "print(\"• Feature engineering could help (ratios, combinations)\")\n",
    "print(\"• Consider handling outliers in preprocessing\")\n",
    "\n",
    "print(\"\\n✅ DATA QUALITY\")\n",
    "print(\"=\" * 50)\n",
    "print(\"• No missing values\")\n",
    "print(\"• No duplicate records\")\n",
    "print(\"• Clean dataset ready for modeling\")\n"
   ]
  },
  {
   "cell_type": "markdown",
   "metadata": {},
   "source": [
    "### 🎯 **Key Findings for Model Development**\n",
    "\n",
    "1. **Target Variable**: Age ranges from 1.5 to 30.5 years with a right-skewed distribution\n",
    "2. **Best Predictors**: Shell weight, length, and diameter show strongest correlations with age\n",
    "3. **Data Quality**: Clean dataset with no missing values or duplicates\n",
    "4. **Feature Engineering Opportunities**: \n",
    "   - Create ratios between measurements\n",
    "   - Consider polynomial features for non-linear relationships\n",
    "   - Handle potential outliers in preprocessing\n",
    "\n",
    "### 📋 **Next Steps for Modeling**\n",
    "- Use shell weight, length, diameter as primary features\n",
    "- Consider sex as a categorical feature\n",
    "- Implement feature scaling for numerical features\n",
    "- Test both linear and non-linear models\n",
    "- Validate model performance with appropriate metrics\n"
   ]
  }
 ],
 "metadata": {
  "kernelspec": {
   "display_name": ".venv",
   "language": "python",
   "name": "python3"
  },
  "language_info": {
   "codemirror_mode": {
    "name": "ipython",
    "version": 3
   },
   "file_extension": ".py",
   "mimetype": "text/x-python",
   "name": "python",
   "nbconvert_exporter": "python",
   "pygments_lexer": "ipython3",
   "version": "3.12.11"
  },
  "orig_nbformat": 4
 },
 "nbformat": 4,
 "nbformat_minor": 2
}
